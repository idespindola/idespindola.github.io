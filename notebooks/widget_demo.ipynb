{
  "cells": [
    {
      "cell_type": "markdown",
      "metadata": {},
      "source": [
        "# \ud83d\udca1 Demonstra\u00e7\u00e3o de Widgets com Python\n",
        "Este \u00e9 um exemplo simples de uso de widgets interativos com `ipywidgets`.\n",
        "\n",
        "Voc\u00ea pode usar este notebook como demonstra\u00e7\u00e3o ou base para experimenta\u00e7\u00f5es futuras."
      ]
    },
    {
      "cell_type": "code",
      "execution_count": null,
      "metadata": {},
      "outputs": [],
      "source": [
        "import ipywidgets as widgets\n",
        "from IPython.display import display\n",
        "\n",
        "slider = widgets.IntSlider(value=5, min=0, max=10, step=1, description='Valor:')\n",
        "display(slider)"
      ]
    },
    {
      "cell_type": "code",
      "execution_count": null,
      "metadata": {},
      "outputs": [],
      "source": [
        "texto = widgets.Text(value='Ol\u00e1!')\n",
        "display(texto)"
      ]
    },
    {
      "cell_type": "code",
      "execution_count": null,
      "metadata": {},
      "outputs": [],
      "source": [
        "botao = widgets.Button(description='Clique aqui')\n",
        "output = widgets.Output()\n",
        "\n",
        "def ao_clicar(b):\n",
        "    with output:\n",
        "        print(f\"Voc\u00ea digitou: {texto.value} e escolheu: {slider.value}\")\n",
        "\n",
        "botao.on_click(ao_clicar)\n",
        "display(botao, output)"
      ]
    }
  ],
  "metadata": {
    "kernelspec": {
      "display_name": "Python 3",
      "language": "python",
      "name": "python3"
    },
    "language_info": {
      "name": "python"
    }
  },
  "nbformat": 4,
  "nbformat_minor": 4
}