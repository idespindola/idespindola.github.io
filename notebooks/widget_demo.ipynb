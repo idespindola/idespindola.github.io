{
 "cells": [
  {
   "cell_type": "markdown",
   "metadata": {},
   "source": [
    "# 💡 Demonstração de Widgets com Python\n",
    "Este é um exemplo simples de uso de widgets interativos com `ipywidgets`.\n",
    "\n",
    "Você pode usar este notebook como demonstração ou base para experimentações futuras."
   ]
  },
  {
   "cell_type": "code",
   "execution_count": 1,
   "metadata": {},
   "outputs": [
    {
     "data": {
      "application/vnd.jupyter.widget-view+json": {
       "model_id": "",
       "version_major": 2,
       "version_minor": 0
      },
      "text/plain": [
       "IntSlider(value=5, description='Valor:', max=10)"
      ]
     },
     "metadata": {},
     "output_type": "display_data"
    }
   ],
   "source": [
    "import ipywidgets as widgets\n",
    "from IPython.display import display\n",
    "\n",
    "slider = widgets.IntSlider(value=5, min=0, max=10, step=1, description='Valor:')\n",
    "display(slider)"
   ]
  },
  {
   "cell_type": "code",
   "execution_count": 2,
   "metadata": {},
   "outputs": [
    {
     "data": {
      "application/vnd.jupyter.widget-view+json": {
       "model_id": "8aea8eba6d5b4f80addf26e60cd9123c",
       "version_major": 2,
       "version_minor": 0
      },
      "text/plain": [
       "Text(value='Olá!')"
      ]
     },
     "metadata": {},
     "output_type": "display_data"
    }
   ],
   "source": [
    "texto = widgets.Text(value='Olá!')\n",
    "display(texto)"
   ]
  },
  {
   "cell_type": "code",
   "execution_count": 3,
   "metadata": {},
   "outputs": [
    {
     "data": {
      "application/vnd.jupyter.widget-view+json": {
       "model_id": "bda6efd8ab934e6abce514720a8a3455",
       "version_major": 2,
       "version_minor": 0
      },
      "text/plain": [
       "Button(description='Clique aqui', style=ButtonStyle())"
      ]
     },
     "metadata": {},
     "output_type": "display_data"
    },
    {
     "data": {
      "application/vnd.jupyter.widget-view+json": {
       "model_id": "32e2a07abf27488f99f69452799acd0a",
       "version_major": 2,
       "version_minor": 0
      },
      "text/plain": [
       "Output()"
      ]
     },
     "metadata": {},
     "output_type": "display_data"
    }
   ],
   "source": [
    "botao = widgets.Button(description='Clique aqui')\n",
    "output = widgets.Output()\n",
    "\n",
    "def ao_clicar(b):\n",
    "    with output:\n",
    "        print(f\"Você digitou: {texto.value} e escolheu: {slider.value}\")\n",
    "\n",
    "botao.on_click(ao_clicar)\n",
    "display(botao, output)"
   ]
  }
 ],
 "metadata": {
  "kernelspec": {
   "display_name": "Python 3 (ipykernel)",
   "language": "python",
   "name": "python3"
  },
  "language_info": {
   "codemirror_mode": {
    "name": "ipython",
    "version": 3
   },
   "file_extension": ".py",
   "mimetype": "text/x-python",
   "name": "python",
   "nbconvert_exporter": "python",
   "pygments_lexer": "ipython3",
   "version": "3.8.20"
  }
 },
 "nbformat": 4,
 "nbformat_minor": 4
}
